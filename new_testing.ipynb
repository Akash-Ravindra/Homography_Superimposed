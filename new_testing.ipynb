{
 "cells": [
  {
   "cell_type": "code",
   "execution_count": 1,
   "metadata": {},
   "outputs": [],
   "source": [
    "import cv2 as cv\n",
    "\n",
    "from matplotlib import pyplot as plt\n",
    "import networkx as nx\n",
    "import itertools\n",
    "import numpy as np\n",
    "import math"
   ]
  },
  {
   "cell_type": "code",
   "execution_count": 2,
   "metadata": {},
   "outputs": [
    {
     "name": "stdout",
     "output_type": "stream",
     "text": [
      "Frame Rate :  26 frames per second\n",
      "Frame count :  787.0\n"
     ]
    }
   ],
   "source": [
    "nonoise_vid = cv.VideoCapture('./1tagvideo.mp4')\n",
    "if (nonoise_vid.isOpened() == False):\n",
    "\tprint(\"Error opening the video file\")\n",
    "else:\n",
    "  # Get frame rate information\n",
    "\n",
    "  fps = int(nonoise_vid.get(5))\n",
    "  print(\"Frame Rate : \",fps,\"frames per second\")\t\n",
    "\n",
    "  # Get frame count\n",
    "  frame_count = nonoise_vid.get(7)\n",
    "  print(\"Frame count : \", frame_count)\n"
   ]
  },
  {
   "cell_type": "code",
   "execution_count": 3,
   "metadata": {},
   "outputs": [],
   "source": [
    "frames = []\n",
    "while(nonoise_vid.isOpened()):\n",
    "\t# nonoise_vid.read() methods returns a tuple, first element is a bool \n",
    "\t# and the second is frame\n",
    "  ret, frame = nonoise_vid.read()\n",
    "  if ret == True:\n",
    "    #Split the channels and invert color of the frame as we are only interested in the red channel\n",
    "    frames.append(frame)\n",
    "    break\n",
    "  else:\n",
    "    break"
   ]
  },
  {
   "cell_type": "markdown",
   "metadata": {},
   "source": [
    "# SCRATHPAD"
   ]
  },
  {
   "cell_type": "code",
   "execution_count": 4,
   "metadata": {},
   "outputs": [],
   "source": [
    "def detect_rectangles(corners:list()):\n",
    "    list_of_point_pairs = []\n",
    "    for point_pairs in itertools.combinations(list_of_corners,2):\n",
    "        p1,p2= point_pairs[0],point_pairs[1]\n",
    "        dist = np.linalg.norm(p1-p2)\n",
    "        if(dist>250):\n",
    "            slope = (p2[1]-p1[1])/(p2[0]-p1[0])\n",
    "            center =  np.array([(p1[0]+p2[0])/2,(p1[1]+p2[1])/2])\n",
    "            list_of_point_pairs.append([p1,p2,slope,center,dist])\n",
    "               \n",
    "    array_of_corners = np.array(list_of_point_pairs,dtype=object)\n",
    "    array_of_corners = array_of_corners[np.argsort(array_of_corners[:,-1])][::-1]\n",
    "    \n",
    "    list_of_rectangles = []\n",
    "    list_of_center_dist = []\n",
    "    for line_pairs in itertools.combinations(array_of_corners,2):\n",
    "        n,m = line_pairs[0],line_pairs[1]\n",
    "        if(np.abs(n[-1]-m[-1])>5):\n",
    "            continue\n",
    "        if (np.linalg.norm(m[3]-n[3])>1):\n",
    "            continue\n",
    "        list_of_rectangles.append(np.array([tuple(n[0].tolist()),tuple(m[0].tolist()),tuple(n[1].tolist()),tuple(m[1].tolist())]))\n",
    "        list_of_center_dist.append(np.array([n[3],np.linalg.norm(n[0]-m[0])],dtype = object))\n",
    "    return list_of_rectangles,list_of_center_dist"
   ]
  },
  {
   "cell_type": "code",
   "execution_count": 5,
   "metadata": {},
   "outputs": [],
   "source": [
    "def plot_polygon(img, lov):\n",
    "    for i in lov:\n",
    "        pts = np.array(i, np.int32)\n",
    "        pts = pts.reshape((-1,1,2))\n",
    "        img_rect = cv.polylines(img,[pts],True,(0,255,255))\n",
    "    return img_rect"
   ]
  },
  {
   "cell_type": "code",
   "execution_count": 6,
   "metadata": {},
   "outputs": [],
   "source": [
    "def calculate_homography(world_corners,image_corner):\n",
    "    Xw = world_corners\n",
    "    xc = image_corner\n",
    "    matrix_A = np.matrix(np.zeros((8,9)))\n",
    "    for a,b in zip(enumerate(Xw),enumerate(xc)):\n",
    "        i,j,n,m = a[0],b[0],a[1],b[1]\n",
    "        matrix_A[i+j,:] = -n[0],-n[1],-1,0,0,0,m[0]*n[0],m[0]*n[1],m[0]\n",
    "        matrix_A[(i+j)+1,:] = 0,0,0,-n[0],-n[1],-1,m[1]*n[0],m[1]*n[1],m[1]\n",
    "    U,S,V = np.linalg.svd(matrix_A)\n",
    "    H = np.reshape(V[-1],[3,3])\n",
    "    return H/H[-1,-1]"
   ]
  },
  {
   "cell_type": "code",
   "execution_count": 7,
   "metadata": {},
   "outputs": [],
   "source": [
    "def decode_tag(tag):\n",
    "    tag = cv.cvtColor(tag,cv.COLOR_BGR2GRAY)\n",
    "    _,tag = cv.threshold(tag,127,255,cv.THRESH_OTSU+cv.THRESH_OTSU)\n",
    "    tag_grids = np.array(np.array_split(tag,8))\n",
    "    msg = np.zeros((8,8))\n",
    "    for i,tag_grid in enumerate(tag_grids):\n",
    "        for j,grid in  enumerate(np.array_split(tag_grid,8,axis=1)):\n",
    "            if np.count_nonzero(grid) < 0.5*grid.size:\n",
    "                msg[i][j] = 0\n",
    "            else:\n",
    "                msg[i][j] =1\n",
    "    if msg[2][2]:\n",
    "        ori = 180\n",
    "    elif msg[2][5]:\n",
    "        ori = 90\n",
    "    elif msg[5][2]:\n",
    "        ori = 270\n",
    "    elif msg[5][5]:\n",
    "        ori = 0\n",
    "    else :\n",
    "        ori = None\n",
    "    idx = (int(msg[3,3])*1+int(msg[3,4])*2+int(msg[4,4])*4+int(msg[4,3])*8)\n",
    "    idx>>ori//90|((idx<<(4-(ori//90)))&0b1111)\n",
    "    return msg,ori,idx"
   ]
  },
  {
   "cell_type": "code",
   "execution_count": 8,
   "metadata": {},
   "outputs": [],
   "source": [
    "sharpen = np.array([[0,-1,0], [-1,5,-1], [0,-1,0]])## Sharpen the image to hightlight edges\n",
    "img = frames[0] #assign the frame of interest\n",
    "img = cv.medianBlur(img, 5) # Blur the image slightly\n",
    "img = cv.filter2D(img,-1,sharpen) ##Sharpen the image to get the edges more promanent \n",
    "gray = cv.cvtColor(img,cv.COLOR_BGR2GRAY) #convert to grayscale\n",
    "\n",
    "#Perform corner detection\n",
    "corners = cv.goodFeaturesToTrack(gray,25,0.35,10) \n",
    "corners = np.int0(corners)\n",
    "list_of_corners = []\n",
    "for i in corners:\n",
    "    x,y = i.ravel()\n",
    "    list_of_corners.append(np.array([x,y]))\n",
    "    cv.circle(img, (x,y), 3, 255, -1)"
   ]
  },
  {
   "cell_type": "code",
   "execution_count": 9,
   "metadata": {},
   "outputs": [],
   "source": [
    "## detect all the rectangle in the image\n",
    "rectangles,d=detect_rectangles(corners)\n",
    "tags = []\n",
    "for i, rectangle in enumerate(rectangles):\n",
    "    #### MAKE IT TO THE CLOSEST MULTIPLE OF 8 the side length of tag\n",
    "    max_frame_size = int(d[i][1])+(int(d[i][1])%8)\n",
    "    PoF = [[0,0],[0,max_frame_size],[max_frame_size,max_frame_size],[max_frame_size,0]]\n",
    "    \n",
    "    homo = calculate_homography(rectangle,PoF)\n",
    "    \n",
    "    warped_img = cv.warpPerspective(frames[0], homo,(max_frame_size,max_frame_size))\n",
    "    cv.imshow(\"warped_img\",warped_img)\n",
    "    cv.waitKey()\n",
    "    cv.destroyAllWindows()\n",
    "    try:\n",
    "        msg,ori,idx = decode_tag(warped_img)\n",
    "    except:\n",
    "        continue\n",
    "    tags.append([msg,ori,idx])"
   ]
  },
  {
   "cell_type": "code",
   "execution_count": 10,
   "metadata": {},
   "outputs": [
    {
     "data": {
      "text/plain": [
       "[array([[0., 0., 0., 0., 0., 0., 0., 0.],\n",
       "        [0., 0., 0., 0., 0., 0., 0., 0.],\n",
       "        [0., 0., 0., 1., 1., 1., 0., 0.],\n",
       "        [0., 0., 1., 0., 1., 1., 0., 0.],\n",
       "        [0., 0., 1., 1., 1., 1., 0., 0.],\n",
       "        [0., 0., 0., 1., 1., 0., 0., 0.],\n",
       "        [0., 0., 0., 0., 0., 0., 0., 0.],\n",
       "        [0., 0., 0., 0., 0., 0., 0., 0.]]),\n",
       " 90,\n",
       " 14]"
      ]
     },
     "execution_count": 10,
     "metadata": {},
     "output_type": "execute_result"
    }
   ],
   "source": [
    "tags[0]"
   ]
  },
  {
   "cell_type": "code",
   "execution_count": null,
   "metadata": {},
   "outputs": [],
   "source": []
  }
 ],
 "metadata": {
  "interpreter": {
   "hash": "acd080017cf0dd6132684ffe7508bf5fd61ebd1e63834c4891f264571b6d6a53"
  },
  "kernelspec": {
   "display_name": "Python 3.7.11 ('enpm673_homework1')",
   "language": "python",
   "name": "python3"
  },
  "language_info": {
   "codemirror_mode": {
    "name": "ipython",
    "version": 3
   },
   "file_extension": ".py",
   "mimetype": "text/x-python",
   "name": "python",
   "nbconvert_exporter": "python",
   "pygments_lexer": "ipython3",
   "version": "3.7.11"
  },
  "orig_nbformat": 4
 },
 "nbformat": 4,
 "nbformat_minor": 2
}
