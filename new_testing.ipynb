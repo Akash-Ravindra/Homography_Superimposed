{
 "cells": [
  {
   "cell_type": "code",
   "execution_count": 15,
   "metadata": {},
   "outputs": [],
   "source": [
    "# %%\n",
    "import cv2 as cv\n",
    "\n",
    "from matplotlib import pyplot as plt\n",
    "import networkx as nx\n",
    "import itertools\n",
    "import numpy as np\n",
    "import math"
   ]
  },
  {
   "cell_type": "code",
   "execution_count": 16,
   "metadata": {},
   "outputs": [
    {
     "name": "stdout",
     "output_type": "stream",
     "text": [
      "Frame Rate :  26 frames per second\n",
      "Frame count :  787.0\n"
     ]
    }
   ],
   "source": [
    "# %%\n",
    "nonoise_vid = cv.VideoCapture('./1tagvideo.mp4')\n",
    "if (nonoise_vid.isOpened() == False):\n",
    "\tprint(\"Error opening the video file\")\n",
    "else:\n",
    "  # Get frame rate information\n",
    "\n",
    "  fps = int(nonoise_vid.get(5))\n",
    "  print(\"Frame Rate : \",fps,\"frames per second\")\t\n",
    "\n",
    "  # Get frame count\n",
    "  frame_count = nonoise_vid.get(7)\n",
    "  print(\"Frame count : \", frame_count)\n",
    "\n",
    "# %% [markdown]\n"
   ]
  },
  {
   "cell_type": "markdown",
   "metadata": {},
   "source": [
    "## SCRATHPAD\n"
   ]
  },
  {
   "cell_type": "code",
   "execution_count": 17,
   "metadata": {},
   "outputs": [],
   "source": [
    "def detect_rectangles(corners:list()):\n",
    "    list_of_point_pairs = []\n",
    "    for point_pairs in itertools.combinations(list_of_corners,2):\n",
    "        p1,p2= point_pairs[0],point_pairs[1]\n",
    "        dist = np.linalg.norm(p1-p2)\n",
    "        if(dist>50):\n",
    "            center =  np.array([(p1[0]+p2[0])/2,(p1[1]+p2[1])/2])\n",
    "            list_of_point_pairs.append([p1,p2,center,dist])\n",
    "               \n",
    "    array_of_corners = np.array(list_of_point_pairs,dtype=object)\n",
    "    array_of_corners = array_of_corners[np.argsort(array_of_corners[:,-1])][::-1]\n",
    "    \n",
    "    list_of_rectangles = []\n",
    "    list_of_center_dist = []\n",
    "    for line_pairs in itertools.combinations(array_of_corners,2):\n",
    "        n,m = line_pairs[0],line_pairs[1]\n",
    "        if(np.abs(n[-1]-m[-1])>10):\n",
    "            continue\n",
    "        if (np.linalg.norm(m[3]-n[3])>10):\n",
    "            continue\n",
    "        list_of_rectangles.append(np.array([tuple(n[0].tolist()),tuple(m[0].tolist()),tuple(n[1].tolist()),tuple(m[1].tolist())]))\n",
    "        list_of_center_dist.append(np.array([n[3],np.linalg.norm(n[0]-m[0])],dtype = object))\n",
    "    return list_of_rectangles,list_of_center_dist"
   ]
  },
  {
   "cell_type": "code",
   "execution_count": 18,
   "metadata": {},
   "outputs": [],
   "source": [
    "# %%\n",
    "def plot_polygon(img, lov):\n",
    "    for i in lov:\n",
    "        pts = np.array(i, np.int32)\n",
    "        pts = pts.reshape((-1,1,2))\n",
    "        img_rect = cv.polylines(img,[pts],True,(0,255,255))\n",
    "    return img_rect"
   ]
  },
  {
   "cell_type": "code",
   "execution_count": 19,
   "metadata": {},
   "outputs": [],
   "source": [
    "# %%\n",
    "def calculate_homography(world_corners,image_corner):\n",
    "    Xw = world_corners\n",
    "    xc = image_corner\n",
    "    matrix_A = np.matrix(np.zeros((8,9)))\n",
    "    for a,b in zip(enumerate(Xw),enumerate(xc)):\n",
    "        i,j,n,m = a[0],b[0],a[1],b[1]\n",
    "        matrix_A[i+j,:] = -n[0],-n[1],-1,0,0,0,m[0]*n[0],m[0]*n[1],m[0]\n",
    "        matrix_A[(i+j)+1,:] = 0,0,0,-n[0],-n[1],-1,m[1]*n[0],m[1]*n[1],m[1]\n",
    "    U,S,V = np.linalg.svd(matrix_A)\n",
    "    H = np.reshape(V[-1],[3,3])\n",
    "    return H/H[-1,-1]\n"
   ]
  },
  {
   "cell_type": "code",
   "execution_count": 20,
   "metadata": {},
   "outputs": [],
   "source": [
    "def decode_tag(tag):\n",
    "    tag = cv.cvtColor(tag,cv.COLOR_BGR2GRAY)\n",
    "    _,tag = cv.threshold(tag,127,255,cv.THRESH_OTSU+cv.THRESH_OTSU)\n",
    "    tag_grids = np.array_split(tag,8)\n",
    "    msg = np.zeros((8,8))\n",
    "    for i,tag_grid in enumerate(tag_grids):\n",
    "        for j,grid in  enumerate(np.array_split(tag_grid,8,axis=1)):\n",
    "            if np.count_nonzero(grid) < 0.5*grid.size:\n",
    "                msg[i][j] = 0\n",
    "            else:\n",
    "                msg[i][j] =1\n",
    "    if msg[2][2]:\n",
    "        ori = 180\n",
    "    elif msg[2][5]:\n",
    "        ori = 90\n",
    "    elif msg[5][2]:\n",
    "        ori = 270\n",
    "    elif msg[5][5]:\n",
    "        ori = 0\n",
    "    else :\n",
    "        ori = None\n",
    "    idx = (int(msg[3,3])*1+int(msg[3,4])*2+int(msg[4,4])*4+int(msg[4,3])*8)\n",
    "    idx = ((idx<<(ori//90)&0b1111)|(idx>>(4-(ori//90))))\n",
    "    if((msg[0:2]!=0).any() and (msg[:][0:2]!=0).any() and (msg[6:-1][:]!=0).any() and (msg[:][6:-1]!=0).any()):\n",
    "        return np.nan,None,None\n",
    "    return msg,ori,idx"
   ]
  },
  {
   "cell_type": "code",
   "execution_count": 21,
   "metadata": {},
   "outputs": [],
   "source": [
    "# %%\n",
    "def Warping(im, H, size, tes = None):\n",
    "    Yt, Xt = np.indices((size[0], size[1]))\n",
    "    \n",
    "    cam_pts = np.stack((Xt.ravel(), Yt.ravel(), np.ones(Xt.size)))\n",
    "\n",
    "    H_inv = np.linalg.inv(H)\n",
    "    # print(H_inv)\n",
    "    cam_pts = H_inv.dot(cam_pts)\n",
    "    cam_pts /= cam_pts[2,:]\n",
    "\n",
    "    Xi, Yi = cam_pts[:2,:].astype(int)\n",
    "    # padding\n",
    "    Xi[Xi >=  im.shape[1]] = im.shape[1]\n",
    "    Xi[Xi < 0] = 0\n",
    "    Yi[Yi >=  im.shape[0]] = im.shape[0]\n",
    "    Yi[Yi < 0] = 0\n",
    "    \n",
    "    # warped_image = np.zeros((size[0], size[1], 3))\n",
    "    # im[Yt.ravel(), Xt.ravel(), :] = tes[Yi, Xi, :]\n",
    "    if (type(tes)==np.ndarray):\n",
    "        im[Yi, Xi, :] = tes[Yt.ravel(), Xt.ravel(), :]\n",
    "        return im\n",
    "    else:\n",
    "        warped_image = np.zeros((size[0],size[1], 3))\n",
    "        warped_image[Yt.ravel(), Xt.ravel(), :]= im[Yi, Xi, :]\n",
    "        return warped_image"
   ]
  },
  {
   "cell_type": "code",
   "execution_count": 22,
   "metadata": {},
   "outputs": [],
   "source": [
    "# %%\n",
    "def sort_points(points):\n",
    "    \n",
    "    left_most = points[np.argmin(points[:,0])]\n",
    "    right_most = points[np.argmax(points[:,0])]\n",
    "    topmost = points[np.argmin(points[:,1])]\n",
    "    bottommost = points[np.argmax(points[:,1])]\n",
    "    return [left_most,bottommost,right_most,topmost]\n",
    "    pass"
   ]
  },
  {
   "cell_type": "code",
   "execution_count": 23,
   "metadata": {},
   "outputs": [],
   "source": [
    "def calculate_rotation(homography):\n",
    "    K = np.array([[1346.100595,0,932.1633975],\n",
    "    [0,1355.933136,654.8986796],\n",
    "    [0,0,1]])\n",
    "    B_tilde = np.linalg.inv(K)@homography\n",
    "    h1,h2,h3 = np.array_split(homography,3,axis=1)\n",
    "    lb = (np.linalg.norm(np.linalg.inv(K)@h1)+np.linalg.norm(np.linalg.inv(K)@h2))/2\n",
    "    lb = 1/lb\n",
    "    if(np.linalg.det(B_tilde)<0):\n",
    "        B = -lb*B_tilde\n",
    "    else:\n",
    "        B = lb*B_tilde\n",
    "    b1,b2,t = np.array_split(B,3,axis=1)\n",
    "    # r1,r2 = b1/np.linalg.norm(b1),b2/np.linalg.norm(b2)\n",
    "    b3 = np.cross(b1.T,b2.T)\n",
    "    # r3 = b3/np.linalg.norm(b3)\n",
    "    r1, r2, r3 = b1, b2, b3\n",
    "\n",
    "    rotation_matrix = np.hstack((r1,r2,r3.T,t))\n",
    "\n",
    "    perspective_transform = (K@rotation_matrix)\n",
    "    \n",
    "    return t,rotation_matrix,perspective_transform\n",
    "    "
   ]
  },
  {
   "cell_type": "code",
   "execution_count": 24,
   "metadata": {},
   "outputs": [],
   "source": [
    "frames = []\n",
    "out = cv.VideoWriter('outpy.avi',cv.VideoWriter_fourcc('M','J','P','G'), 26, (1920,1080))\n",
    "testudo  =cv.imread('testudo.jpg')\n",
    "while(nonoise_vid.isOpened()):\n",
    "\t# nonoise_vid.read() methods returns a tuple, first element is a bool \n",
    "\t# and the second is frame\n",
    "    ret, frame = nonoise_vid.read()\n",
    "    if ret == True:\n",
    "        #Split the channels and invert color of the frame as we are only interested in the red channel\n",
    "        frames.append(frame)\n",
    "    else:\n",
    "        break"
   ]
  },
  {
   "cell_type": "code",
   "execution_count": 25,
   "metadata": {},
   "outputs": [],
   "source": [
    "sharpen = np.array([[0,-1,0], [-1,5,-1], [0,-1,0]])## Sharpen the image to hightlight edges\n",
    "img = frames[1] #assign the frame of interest\n",
    "img_modify = cv.medianBlur(img, 5) # Blur the image slightly\n",
    "img_modify = cv.filter2D(img_modify,-1,sharpen) ##Sharpen the image to get the edges more promanent \n",
    "gray = cv.cvtColor(img_modify,cv.COLOR_BGR2GRAY) #convert to grayscale\n"
   ]
  },
  {
   "cell_type": "code",
   "execution_count": 26,
   "metadata": {},
   "outputs": [],
   "source": [
    "\n",
    "#Perform corner detection\n",
    "corners = cv.goodFeaturesToTrack(gray,30,0.01,35) \n",
    "corners = np.int0(corners)\n",
    "list_of_corners = []\n",
    "for i in corners:\n",
    "    x,y = i.ravel()\n",
    "    list_of_corners.append(np.array([x,y]))\n"
   ]
  },
  {
   "cell_type": "code",
   "execution_count": 27,
   "metadata": {},
   "outputs": [
    {
     "name": "stderr",
     "output_type": "stream",
     "text": [
      "/home/eurus/anaconda3/envs/enpm673_homework1/lib/python3.7/site-packages/ipykernel_launcher.py:8: RuntimeWarning: divide by zero encountered in double_scalars\n",
      "  \n",
      "/home/eurus/anaconda3/envs/enpm673_homework1/lib/python3.7/site-packages/ipykernel_launcher.py:12: RuntimeWarning: invalid value encountered in multiply\n",
      "  if sys.path[0] == '':\n",
      "/home/eurus/anaconda3/envs/enpm673_homework1/lib/python3.7/site-packages/ipykernel_launcher.py:21: RuntimeWarning: invalid value encountered in matmul\n"
     ]
    }
   ],
   "source": [
    "\n",
    "## detect all the rectangle in the image\n",
    "rectangles,d=detect_rectangles(corners)\n",
    "\n",
    "tags = []\n",
    "for i, rectangle in enumerate(rectangles):\n",
    "    #### MAKE IT TO THE CLOSEST MULTIPLE OF 8 the side length of tag\n",
    "    max_frame_size = int(d[i][1])+(int(d[i][1])%8)\n",
    "    PoF = [[0,0],[max_frame_size,0],[max_frame_size,max_frame_size],[0,max_frame_size]]\n",
    "    rectangle = sort_points(rectangle)\n",
    "    homo = calculate_homography(rectangle[::-1],PoF)\n",
    "    t,r,_ = calculate_rotation(homo)\n",
    "    try:\n",
    "        # warped_img = cv.warpPerspective(frames[0], homo,(max_frame_size,max_frame_size))\n",
    "        warped_img = np.uint8(Warping(img,homo,(max_frame_size,max_frame_size)))\n",
    "        cv.imshow(\"warped_img\",warped_img)\n",
    "        cv.waitKey()\n",
    "        cv.destroyAllWindows()\n",
    "        msg,ori,idx = decode_tag(warped_img)\n",
    "    except:\n",
    "        continue\n",
    "    tags.append([msg,ori,idx,max_frame_size,t,r])\n",
    "    break\n"
   ]
  },
  {
   "cell_type": "code",
   "execution_count": 28,
   "metadata": {},
   "outputs": [],
   "source": [
    "K = np.array([[1346.100595,0,932.1633975],\n",
    "[0,1355.933136,654.8986796],\n",
    "[0,0,1]])\n",
    "for i,tag in enumerate(tags):\n",
    "    ## For every quad that returned a valid tag info superimpose a image\n",
    "    if(np.isnan(tag[0]).any() or type(tag[1])==type(None) or type(tag[2])==type(None)):\n",
    "        continue\n",
    "    if(tag[2]!=7):\n",
    "        continue\n",
    "    points = np.array([[[0,0,0],\n",
    "                   [tag[3],0,0],\n",
    "                   [tag[3],tag[3],0],\n",
    "                   [0,tag[3],0],\n",
    "                   [0,0,-1],\n",
    "                   [tag[3],0,-1],\n",
    "                   [tag[3],tag[3],-1],\n",
    "                   [0,tag[3],-1],\n",
    "                   ]],dtype = np.float64)\n",
    "    img_points = cv.projectPoints(points,tag[5],tag[4],K,np.zeros((1,4)))\n",
    "    im_rect = img\n",
    "    im_rect = cv.circle(img,tuple(img_points[0][0][0].astype(int)),2,(0,255,0),2)\n",
    "    im_rect = cv.circle(im_rect,tuple(img_points[0][0][1].astype(int)),2,(0,255,0),2)\n",
    "    im_rect = cv.circle(im_rect,tuple(img_points[0][0][2].astype(int)),2,(0,255,0),2)\n",
    "    im_rect = cv.circle(im_rect,tuple(img_points[0][0][3].astype(int)),2,(0,255,0),2)\n",
    "    im_rect = cv.circle(im_rect,tuple(img_points[0][0][4].astype(int)),2,(0,255,0),2)\n",
    "    im_rect = cv.circle(im_rect,tuple(img_points[0][0][5].astype(int)),2,(0,255,0),2)\n",
    "    im_rect = cv.circle(im_rect,tuple(img_points[0][0][6].astype(int)),2,(0,255,0),2)\n",
    "    im_rect = cv.circle(im_rect,tuple(img_points[0][0][7].astype(int)),2,(0,255,0),2)\n",
    "    cv.imshow(\"asd\",im_rect)\n",
    "    cv.waitKey()\n",
    "    cv.destroyAllWindows()\n",
    "    break"
   ]
  },
  {
   "cell_type": "code",
   "execution_count": 29,
   "metadata": {},
   "outputs": [
    {
     "ename": "NameError",
     "evalue": "name 'img_points' is not defined",
     "output_type": "error",
     "traceback": [
      "\u001b[0;31m---------------------------------------------------------------------------\u001b[0m",
      "\u001b[0;31mNameError\u001b[0m                                 Traceback (most recent call last)",
      "\u001b[0;32m<ipython-input-29-da034612ec56>\u001b[0m in \u001b[0;36m<module>\u001b[0;34m\u001b[0m\n\u001b[0;32m----> 1\u001b[0;31m \u001b[0mimg_points\u001b[0m\u001b[0;34m\u001b[0m\u001b[0;34m\u001b[0m\u001b[0m\n\u001b[0m",
      "\u001b[0;31mNameError\u001b[0m: name 'img_points' is not defined"
     ]
    }
   ],
   "source": [
    "img_points"
   ]
  },
  {
   "cell_type": "code",
   "execution_count": null,
   "metadata": {},
   "outputs": [],
   "source": []
  }
 ],
 "metadata": {
  "interpreter": {
   "hash": "acd080017cf0dd6132684ffe7508bf5fd61ebd1e63834c4891f264571b6d6a53"
  },
  "kernelspec": {
   "display_name": "Python 3.7.11 ('enpm673_homework1')",
   "language": "python",
   "name": "python3"
  },
  "language_info": {
   "codemirror_mode": {
    "name": "ipython",
    "version": 3
   },
   "file_extension": ".py",
   "mimetype": "text/x-python",
   "name": "python",
   "nbconvert_exporter": "python",
   "pygments_lexer": "ipython3",
   "version": "3.7.11"
  },
  "orig_nbformat": 4
 },
 "nbformat": 4,
 "nbformat_minor": 2
}
